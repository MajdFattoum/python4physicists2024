{
 "cells": [
  {
   "cell_type": "markdown",
   "id": "aee32c33-62eb-4bd1-9bf4-a74a8b5d1503",
   "metadata": {},
   "source": [
    "# Homework 1"
   ]
  },
  {
   "cell_type": "markdown",
   "id": "a7ad4d13-4b74-4e32-87bf-63bad462a602",
   "metadata": {},
   "source": [
    "## Name: Majd Fattoum"
   ]
  },
  {
   "cell_type": "markdown",
   "id": "2fb1e0fe-2e70-4369-a4b0-176ecf986571",
   "metadata": {},
   "source": [
    "# Problem 1: Statistical calculations and error propagation (2.5 P)"
   ]
  },
  {
   "cell_type": "markdown",
   "id": "b8c90330-aed9-4d5c-8ccb-eed151cf29b6",
   "metadata": {},
   "source": [
    "You have measured the length L and width B of a rectangular object in an experiment. The area A of the rectangle is to be calculated from these two values. Each measurement was carried out several times, so you have a series of measurements for each variable.\n",
    "\n",
    "The different values for the length and width are given in the following lists."
   ]
  },
  {
   "cell_type": "code",
   "execution_count": 1,
   "id": "ac1aefb8-1586-4996-804a-5bc65f0365c7",
   "metadata": {},
   "outputs": [],
   "source": [
    "L = [20.55, 19.89, 20.14, 20.07]  # Length in m\n",
    "B = [15.44, 14.95, 15.12, 15]       # Width in m"
   ]
  },
  {
   "cell_type": "markdown",
   "id": "7ab7abd5-9e4a-44fd-87c2-38e85c646a97",
   "metadata": {},
   "source": [
    "**(A)** Calculate the mean value for L and B in Python with **(0.5 P)**\n",
    "\n",
    "$$\\overline{x} = \\frac{1}{N} \\sum_{i=1}^{N} x_i.$$\n",
    "\n",
    "Round the result to two decimal places using the built-in ```round()``` function.\n",
    "\n",
    "*Hint*: You can use ```N = len(your_list)```. It's beneficial to use variables instead of hardcoding numbers directly in your code. If you need to change e.g. your list or numbers, you only have to update it in one place.\n"
   ]
  },
  {
   "cell_type": "code",
   "execution_count": 2,
   "id": "08783a54-320e-4bc2-ab2a-504d6b124dbb",
   "metadata": {},
   "outputs": [],
   "source": [
    "sum = 0"
   ]
  },
  {
   "cell_type": "markdown",
   "id": "85fe6f99-ca23-40ef-8eac-d285bc48bac3",
   "metadata": {},
   "source": [
    "**(B)** Calculate the standard error to obtain $\\Delta$L and $\\Delta$B using **(1 P)**\n",
    "\n",
    "\n",
    "$$\\sigma_{\\bar{x}} = \\frac{1}{\\sqrt{N}}\\cdot\\sqrt{\\frac{1}{N-1} \\sum_{i=1}^{N} \\left( x_i - \\overline{x} \\right)^2},$$\n",
    "\n",
    "and round the result to two decimal places. "
   ]
  },
  {
   "cell_type": "code",
   "execution_count": 3,
   "id": "5994957b-cdd4-4725-af70-47f30e9fb505",
   "metadata": {},
   "outputs": [],
   "source": [
    "#Your code here"
   ]
  },
  {
   "cell_type": "markdown",
   "id": "026de032-1cf9-4498-b17e-ec627f931e08",
   "metadata": {},
   "source": [
    "**(C)** Calculate the area A from using the mean values $\\overline{L}$ and $\\overline{B}$. In the next step, calculate the error of the area $\\Delta A$ using the following equation:\n",
    "$$\\Delta A = A \\cdot \\sqrt{\\left( \\frac{\\Delta L}{L} \\right)^2 + \\left( \\frac{\\Delta B}{B} \\right)^2}$$\n",
    "\n",
    "with $\\Delta$B and $\\Delta$L as the standard errors you calculated in task (B). Print the values of A and $\\Delta A$. **(1 P)**"
   ]
  },
  {
   "cell_type": "code",
   "execution_count": 4,
   "id": "b966461f-56a2-4363-847b-ef873bd78420",
   "metadata": {},
   "outputs": [],
   "source": [
    "#Your code here"
   ]
  },
  {
   "cell_type": "markdown",
   "id": "7b045d7c-462e-49e9-8cea-50085cfff724",
   "metadata": {},
   "source": [
    "# Problem 2: Working with dictionaries (2.5 P)"
   ]
  },
  {
   "cell_type": "markdown",
   "id": "8aa43211-79f9-4df0-b88d-a2e699a32002",
   "metadata": {},
   "source": [
    "Imagine you are working in a library, where you are responsible for managing the details of book loans. Your task is to maintain a record of members and their borrowed books using a Python dictionary.\n",
    "\n",
    "You are provided with the following dictionary structure to help you get started:"
   ]
  },
  {
   "cell_type": "code",
   "execution_count": 5,
   "id": "ab1254b5-d750-4faf-baf0-300f4bc64310",
   "metadata": {},
   "outputs": [],
   "source": [
    "library_records = {1001: {  \n",
    "        \"name\": \"Enny\",\n",
    "        \"borrowed books\": [\"The Hitchhiker's Guide to the Galaxy\", \"The Restaurant at the End of the Universe \", \"Life, the Universe and Everything\"],  \n",
    "        \"N_books\": 3},\n",
    "                    1002: {\n",
    "        \"name\": \"Jessica\",\n",
    "        \"borrowed books\": [\"The Colour Of Magic\"],\n",
    "        \"N_books\": 4\n",
    "    }\n",
    "}"
   ]
  },
  {
   "cell_type": "markdown",
   "id": "b15a8316-6d97-4478-8f6d-83d0f5687976",
   "metadata": {},
   "source": [
    "The numbers 1001 and 1002 are the member IDs. The members IDs are the keys and the details of the members (name, borrowed books and max_books) are additional dictionaries assigned to each ID. Each member can borrow a maximum of 5 books at a time, and the N_books value indicates how many more books they can still borrow.\n",
    "\n",
    "**(A)** Enny comes to you and would like to know which books she already borrowed. **(1 P)**\n",
    "\n",
    "- Can you extract this information from the dictionary? \n",
    "\n",
    "She has already read the book \"The Hitchhiker's Guide to the Galaxy\" and would like to give it back. \n",
    "\n",
    "- Now you can remove this book from the dictionary and add +1 to N_books.\n",
    "\n",
    "- Check the whole dictionary in the end to see if everything worked.\n",
    "\n",
    "*Hint: Be careful when you make changes to your previous lines and remember to restart the kernel and run the cells again if necessary.* "
   ]
  },
  {
   "cell_type": "code",
   "execution_count": 6,
   "id": "709c5596-24eb-4529-b33d-a4e1042ef312",
   "metadata": {},
   "outputs": [],
   "source": [
    "#Your code here"
   ]
  },
  {
   "cell_type": "markdown",
   "id": "5397e13c-0cc8-4134-9e77-f0616e91ecff",
   "metadata": {},
   "source": [
    "**(B)** Naemi would like to register as a member of the library and she receives the member ID 1003. **(0.5 P)**\n",
    "- Add her to the library records and print the dictionary to check if it worked. "
   ]
  },
  {
   "cell_type": "code",
   "execution_count": 8,
   "id": "3d0656c1-718d-4158-a350-62d80e4e240c",
   "metadata": {},
   "outputs": [],
   "source": [
    "#Your code here"
   ]
  },
  {
   "cell_type": "markdown",
   "id": "580873bc-da1b-4e69-aa7a-f5c5490c170f",
   "metadata": {},
   "source": [
    "**(C)** Jessica would like to borrow the book \"There and Back Again\". Your job is to check whether she is allowed to borrow another book based on the number of books she already has. **(1 P)**\n",
    "\n",
    "- Write an if statement to check if Jessica can borrow another book. Remember, she can borrow a maximum of 5 books at a time.\n",
    "\n",
    "- If she is allowed, add \"There and Back Again\" to her ```borrowed_books``` list inside the ```library_records``` dictionary.\n",
    "\n",
    "- Check the dictionary again at the end."
   ]
  },
  {
   "cell_type": "code",
   "execution_count": 9,
   "id": "277179c7-1101-4a16-8a15-94aa54c706ec",
   "metadata": {},
   "outputs": [],
   "source": [
    "#Your code here"
   ]
  }
 ],
 "metadata": {
  "kernelspec": {
   "display_name": "Python 3 (ipykernel)",
   "language": "python",
   "name": "python3"
  },
  "language_info": {
   "codemirror_mode": {
    "name": "ipython",
    "version": 3
   },
   "file_extension": ".py",
   "mimetype": "text/x-python",
   "name": "python",
   "nbconvert_exporter": "python",
   "pygments_lexer": "ipython3",
   "version": "3.11.5"
  }
 },
 "nbformat": 4,
 "nbformat_minor": 5
}
